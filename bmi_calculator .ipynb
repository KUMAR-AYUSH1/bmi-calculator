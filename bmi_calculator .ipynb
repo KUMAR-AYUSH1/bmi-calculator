{
 "cells": [
  {
   "cell_type": "code",
   "execution_count": 1,
   "id": "9534c7a0",
   "metadata": {},
   "outputs": [
    {
     "name": "stdout",
     "output_type": "stream",
     "text": [
      "Enter weight in kg: 76\n",
      "Enter height in m: 5.8\n",
      "Your BMI is 2.26, which is categorized as Underweight.\n"
     ]
    }
   ],
   "source": [
    "def calculate_bmi(weight_kg, height_m):\n",
    "    if height_m <= 0:\n",
    "        return 0.0\n",
    "\n",
    "    bmi = weight_kg / (height_m ** 2)\n",
    "    return bmi\n",
    "\n",
    "\n",
    "def get_bmi_category(bmi_value):\n",
    "    \n",
    "    if bmi_value < 18.5:\n",
    "        return \"Underweight\"\n",
    "    elif bmi_value < 25:\n",
    "        return \"Normal\"\n",
    "    elif bmi_value < 30:\n",
    "        return \"Overweight\"\n",
    "    else:\n",
    "        return \"Obese\"\n",
    "\n",
    "\n",
    "def bmi_calculator():\n",
    "    \n",
    "    try:\n",
    "        weight = float(input(\"Enter weight in kg: \"))\n",
    "        height = float(input(\"Enter height in m: \"))\n",
    "    except ValueError:\n",
    "        print(\"Invalid input. Please enter numerical values for weight and height.\")\n",
    "        return\n",
    "\n",
    "    bmi_result = calculate_bmi(weight, height)\n",
    "    category = get_bmi_category(bmi_result)\n",
    "\n",
    "    print(f\"Your BMI is {bmi_result:.2f}, which is categorized as {category}.\")\n",
    "\n",
    "bmi_calculator()"
   ]
  },
  {
   "cell_type": "code",
   "execution_count": null,
   "id": "eac13884",
   "metadata": {},
   "outputs": [],
   "source": []
  }
 ],
 "metadata": {
  "kernelspec": {
   "display_name": "Python 3 (ipykernel)",
   "language": "python",
   "name": "python3"
  },
  "language_info": {
   "codemirror_mode": {
    "name": "ipython",
    "version": 3
   },
   "file_extension": ".py",
   "mimetype": "text/x-python",
   "name": "python",
   "nbconvert_exporter": "python",
   "pygments_lexer": "ipython3",
   "version": "3.9.13"
  }
 },
 "nbformat": 4,
 "nbformat_minor": 5
}
